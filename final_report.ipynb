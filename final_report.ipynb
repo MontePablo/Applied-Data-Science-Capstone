{
  "nbformat": 4,
  "nbformat_minor": 0,
  "metadata": {
    "colab": {
      "name": "final report.ipynb",
      "provenance": [],
      "collapsed_sections": []
    },
    "kernelspec": {
      "name": "python3",
      "display_name": "Python 3"
    }
  },
  "cells": [
    {
      "cell_type": "markdown",
      "metadata": {
        "id": "EefNt3F_HQEi",
        "colab_type": "text"
      },
      "source": [
        "<h1>\n",
        "Final Report | Capstone Project – The Battle of Neighborhoods Finding a Better Place in Kolkata,West Bengal,India"
      ]
    },
    {
      "cell_type": "markdown",
      "metadata": {
        "id": "OghARQ0YHSKh",
        "colab_type": "text"
      },
      "source": [
        "<h2>1. Introduction:</h2>\n",
        "\n",
        "The purpose of this Project is to help people in exploring better facilities around their neighborhood. It will help people making smart and efficient decision on selecting great neighborhood out of numbers of other neighborhoods in Kolkata,West Bengal.\n",
        "Lots of people come to Kolkata for job or educational purposeses and needed lots of research for good housing prices and reputated schools for their children. This project is for those people who are looking for better neighborhoods. For ease of accessing to Cafe, School, Super market, medical shops, grocery shops, mall, theatre, hospital, like minded people, etc.\n",
        "\n",
        "It will help people to get awareness of the area and neighborhood before moving to a new city, state, country or place for their work or to start a new fresh life.\n",
        "\n",
        "<h2>2. Data Section</h2>\n",
        "Data Link: https://en.wikipedia.org/wiki/Category:Municipal_wards_of_Kolkata\n",
        "\n",
        "Will use these links which are listed on wikipedia for each wards. Dataset consisting of latitude and longitude, zip codes.\n",
        "\n",
        "<h3>Foursquare API Data:</h3>\n",
        "We will need data about different venues in different neighborhoods of that specific borough. In order to gain that information we will use \"Foursquare\" locational information. Foursquare is a location data provider with information about all manner of venues and events within an area of interest. Such information includes venue names, locations, menus and even photos. As such, the foursquare location platform will be used as the sole data source since all the stated required information can be obtained through the API.\n",
        "\n",
        "After finding the list of neighborhoods, we then connect to the Foursquare API to gather information about venues inside each and every neighborhood. For each neighborhood, we have chosen the radius to be 2000 meter.\n",
        "\n",
        "The data retrieved from Foursquare contained information of venues within a specified distance of the longitude and latitude of the postcodes. The information obtained per venue as follows:\n",
        "\n",
        "      1. Neighborhood\n",
        "      2. Neighborhood Latitude\n",
        "      3. Neighborhood Longitude\n",
        "      4. Venue\n",
        "      5. Name of the venue e.g. the name of a store or restaurant\n",
        "      6. Venue Latitude\n",
        "      7. Venue Longitude\n",
        "      8. Venue Category"
      ]
    },
    {
      "cell_type": "markdown",
      "metadata": {
        "id": "T1i_rJCiONq8",
        "colab_type": "text"
      },
      "source": [
        "Map of wards in Kolkata\n",
        "\n",
        "![alt text](https://github.com/Debajyoti1/Applied-Data-Science-Capstone/blob/master/1.PNG?raw=true)\n",
        "\n",
        "<h2>3. Methodology Section</h2>\n",
        "<h3>Clustering Approach:</h3>\n",
        "To compare the similarities of two Postal code neighbourhood, we decided to segment them, and group them into clusters to find similar neighborhoods in a big city like Kolkata. To be able to do that, we need to cluster data which is a form of unsupervised machine learning: k-means clustering algorithm\n",
        "\n",
        "<h3>Using K-Means Clustering Approach</h3>\n",
        "\n",
        "![alt text](https://github.com/Debajyoti1/Applied-Data-Science-Capstone/blob/master/2.PNG?raw=true)\n",
        "\n",
        "<h3>Most Common venues near Neighborhood</h3>\n",
        "\n",
        "![alt text](https://github.com/Debajyoti1/Applied-Data-Science-Capstone/blob/master/3.PNG?raw=true)\n",
        "\n",
        "<h3>Work Flow:</h3>\n",
        "Using credentials of Foursquare API features of near-by places of the neighborhoods would be mined. Due to http request limitations the number of places per neighborhood parameter would reasonably be set to 100 and the radius parameter would be set to 2000.\n",
        "\n",
        "<h2>4. Results Section</h2>\n",
        "<h3>Map of Clusters in Kolkata</h3>\n",
        "\n",
        "![alt text](https://github.com/Debajyoti1/Applied-Data-Science-Capstone/blob/master/4.PNG?raw=true)\n",
        "\n",
        "\n",
        "<h3>The Location:</h3>\n",
        "Kolkata is a popular destination for new immigrants in West Bengal to reside. Being home to various religious groups and places of worship. Although immigration has become a hot topic over the past few years with more governments seeking more restrictions on immigrants and refugees, the general trend of immigration into Kolkata has been one of on the rise.\n",
        "\n",
        "<h3>Foursquare API:</h3>\n",
        "This project have used Four-square API as its prime data gathering source as it has a database of millions of places, especially their places API which provides the ability to perform location search, location sharing and details about a business.\n",
        "\n",
        "<h2>5. Discussion Section</h2>\n",
        "<h3>Problem Which Tried to Solve:</h3>\n",
        "The major purpose of this project, is to suggest a better neighborhood/place in a new city for the person who are shiffting there. Social presence in society in terms of like minded people. Connectivity to the airport, bus stand, city center, markets and other daily needs things nearby.\n",
        "Sorted list of house in terms of housing prices in a ascending or descending order Sorted list of schools in terms of location, fees, rating and reviews\n",
        "<h2>6. Conclusion Section</h2>\n",
        "In this project, using k-means cluster algorithm I separated the neighborhood into 5 different clusters and for 144 different lattitude and logitude from dataset, which have very-similar neighborhoods around them. Using the charts above results presented to a particular neighborhood based on average house prices and school rating have been made.\n",
        "\n",
        "I feel rewarded with the efforts and believe this course with all the topics covered is well worthy of appreciation. This project has shown me a practical application to resolve a real situation that has impacting personal and financial impact using Data Science tools. The mapping with Folium is a very powerful technique to consolidate information and make the analysis and decision better with confidence.\n",
        "\n",
        "<h2>Future Works:</h2>\n",
        "This project can be continued for making it more precise in terms to find best house in Kolkata. Best means on the basis of all required things(daily needs or things we need to live a better life around and also in terms of cost effective.But there is not enough data about schools and hospitals in foursquare api for the location Kolkata. so thinkking to use google maps api for getting the best results.\n",
        "\n",
        "<h3>Libraries Which are Used to Develope the Project:</h3>\n",
        "Pandas: For creating and manipulating dataframes.\n",
        "\n",
        "Folium: Python visualization library would be used to visualize the neighborhoods cluster distribution of using interactive leaflet map.\n",
        "\n",
        "Scikit Learn: For importing k-means clustering.\n",
        "\n",
        "JSON: Library to handle JSON files.\n",
        "\n",
        "XML: To separate data from presentation and XML stores data in plain text format.\n",
        "\n",
        "Geocoder: To retrieve Location Data.\n",
        "\n",
        "Beautiful Soup and Requests: To scrap and library to handle http requests.\n",
        "\n",
        "Matplotlib: Python Plotting Module."
      ]
    },
    {
      "cell_type": "code",
      "metadata": {
        "id": "cCohcPHrHMVF",
        "colab_type": "code",
        "colab": {}
      },
      "source": [
        ""
      ],
      "execution_count": null,
      "outputs": []
    }
  ]
}